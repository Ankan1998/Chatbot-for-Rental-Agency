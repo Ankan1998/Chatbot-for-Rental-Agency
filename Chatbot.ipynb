{
  "nbformat": 4,
  "nbformat_minor": 0,
  "metadata": {
    "colab": {
      "name": "Chatbot.ipynb",
      "provenance": [],
      "mount_file_id": "19HBHKNo2dzbDHyVCrjR_WgPKPGg7vNQG",
      "authorship_tag": "ABX9TyM6drfeQowAHJpSmd4zyMxZ",
      "include_colab_link": true
    },
    "kernelspec": {
      "name": "python3",
      "display_name": "Python 3"
    },
    "accelerator": "GPU"
  },
  "cells": [
    {
      "cell_type": "markdown",
      "metadata": {
        "id": "view-in-github",
        "colab_type": "text"
      },
      "source": [
        "<a href=\"https://colab.research.google.com/github/Ankan1998/Chatbot-for-Transport-Rental-Agency/blob/main/Chatbot.ipynb\" target=\"_parent\"><img src=\"https://colab.research.google.com/assets/colab-badge.svg\" alt=\"Open In Colab\"/></a>"
      ]
    },
    {
      "cell_type": "markdown",
      "metadata": {
        "id": "G7ndnVP62VV8"
      },
      "source": [
        "### **nltk_utils.py**\n",
        "#### This includes nltk package"
      ]
    },
    {
      "cell_type": "code",
      "metadata": {
        "colab": {
          "base_uri": "https://localhost:8080/"
        },
        "id": "8-gxNeXC1_BN",
        "outputId": "1a32a778-0a39-4579-9876-c49191235026"
      },
      "source": [
        "import numpy as np\n",
        "import nltk\n",
        "nltk.download('punkt')\n",
        "\n",
        "\n",
        "from nltk.stem.porter import PorterStemmer\n",
        "stemmer=PorterStemmer()\n",
        "\n",
        "def token_ize(sentence):\n",
        "    # tokenize each sentence by splitting from \" \" \n",
        "    return nltk.word_tokenize(sentence)\n",
        "\n",
        "\n",
        "def stemming(word):\n",
        "    return stemmer.stem(word.lower())\n",
        "\n",
        "def b_o_w(tokenize_sentence,list_of_words):\n",
        "    \"\"\"\n",
        "    Parameters\n",
        "    ----------\n",
        "    tokenize_sentence : [\"hi\",\"how\",\"are\",\"you\"]\n",
        "        result of tokenizer \n",
        "    list_of_words : [\"hi\",\"bye\",\"how\",\"are\",\"you\"]\n",
        "        bag of all words\n",
        "    Returns\n",
        "    -------\n",
        "    list with [1,0,1,1,1]\n",
        "    \"\"\"\n",
        "    stemmed=[stemming(w) for w in tokenize_sentence]\n",
        "    bag=np.zeros(len(list_of_words),dtype=np.float32)\n",
        "    for idx,word in enumerate(list_of_words):\n",
        "        if word in stemmed:\n",
        "            bag[idx]=1.0\n",
        "    return bag\n"
      ],
      "execution_count": 10,
      "outputs": [
        {
          "output_type": "stream",
          "text": [
            "[nltk_data] Downloading package punkt to /root/nltk_data...\n",
            "[nltk_data]   Package punkt is already up-to-date!\n"
          ],
          "name": "stdout"
        }
      ]
    },
    {
      "cell_type": "markdown",
      "metadata": {
        "id": "fJD2TdmKANPl"
      },
      "source": [
        "### **model.py**"
      ]
    },
    {
      "cell_type": "code",
      "metadata": {
        "id": "NE7dH7ILARUH"
      },
      "source": [
        "import torch\n",
        "import torch.nn as nn\n",
        "\n",
        "class ChatNet(nn.Module):\n",
        "  def __init__(self,input_size,classes):\n",
        "    super().__init__()\n",
        "    self.l1=nn.Linear(input_size,128)\n",
        "    self.l2=nn.Linear(128,64)\n",
        "    self.l3=nn.Linear(64,32)\n",
        "    self.l4=nn.Linear(32,classes)\n",
        "    self.d0=nn.Dropout(p=0.1)\n",
        "    self.relu=nn.ReLU()\n",
        "\n",
        "\n",
        "  def forward(self,x):\n",
        "    out=self.l1(x)\n",
        "    out=self.relu(out)\n",
        "    out=self.l2(out)\n",
        "    out=self.relu(out)\n",
        "    out=self.l3(out)\n",
        "    out=self.relu(out)\n",
        "    out=self.d0(out)\n",
        "    out=self.l4(out)\n",
        "\n",
        "    return out\n"
      ],
      "execution_count": 14,
      "outputs": []
    },
    {
      "cell_type": "markdown",
      "metadata": {
        "id": "-lPt4Nhl2S2z"
      },
      "source": [
        "### **train.py**\n",
        "#### These include dataset, dataloader and neural trainer, model saver"
      ]
    },
    {
      "cell_type": "code",
      "metadata": {
        "colab": {
          "base_uri": "https://localhost:8080/"
        },
        "id": "csxtSica3GIz",
        "outputId": "faf6b6f5-4dd7-4b54-f885-3f281f6df969"
      },
      "source": [
        "import numpy as np\n",
        "import random\n",
        "import json\n",
        "\n",
        "import torch\n",
        "import torch.nn as nn\n",
        "from torch.utils.data import Dataset, DataLoader\n",
        "\n",
        "with open(\"/content/drive/MyDrive/PROJECTS/Chatbot Transport Rental Agency/intents.json\",\"r\") as f:\n",
        "  intents = json.load(f)\n",
        "\n",
        "\n",
        "# Separating required field from dictionary\n",
        "all_words=[]\n",
        "tags=[]\n",
        "x_y=[]\n",
        "\n",
        "for intent in intents[\"intents\"]:\n",
        "  t=intent[\"tag\"]\n",
        "  tags.append(t)\n",
        "  for i in intent[\"patterns\"]:\n",
        "    each_word=token_ize(i)\n",
        "    all_words.extend(each_word)\n",
        "    x_y.append((each_word,t))\n",
        "\n",
        "# stem and lower each word\n",
        "ignore_words = ['?', '.', '!']\n",
        "all_words = [stemming(w) for w in all_words if w not in ignore_words]\n",
        "# remove duplicates and sort\n",
        "all_words = sorted(set(all_words))\n",
        "tags = sorted(set(tags))\n",
        "\n",
        "\n",
        "# create training data\n",
        "X_train = []\n",
        "y_train = []\n",
        "for (pattern_sentence, tag) in x_y:\n",
        "    # X: bag of words for each pattern_sentence\n",
        "    bag = b_o_w(pattern_sentence, all_words)\n",
        "    X_train.append(bag)\n",
        "    # y: Label index\n",
        "    label = tags.index(tag)\n",
        "    y_train.append(label)\n",
        "\n",
        "X_train = np.array(X_train)\n",
        "y_train = np.array(y_train)\n",
        "\n",
        "\n",
        "\n",
        "# Hyper-parameters \n",
        "num_epochs = 1000\n",
        "batch_size = 8\n",
        "learning_rate = 0.0001\n",
        "input_size = len(X_train[0])\n",
        "output_size = len(tags)\n",
        "print(input_size, output_size)\n",
        "\n",
        "\n",
        "\n",
        "class Chat_Dataset(Dataset):\n",
        "\n",
        "    def __init__(self):\n",
        "        self.n_samples = len(X_train)\n",
        "        self.x_data = X_train\n",
        "        self.y_data = y_train\n",
        "\n",
        "    # support indexing such that dataset[i] can be used to get i-th sample\n",
        "    def __getitem__(self, index):\n",
        "        return self.x_data[index], self.y_data[index]\n",
        "\n",
        "    # we can call len(dataset) to return the size\n",
        "    def __len__(self):\n",
        "        return self.n_samples\n",
        "\n",
        "\n",
        "\n",
        "dataset = Chat_Dataset()\n",
        "train_loader = DataLoader(dataset=dataset,\n",
        "                          batch_size=batch_size,\n",
        "                          shuffle=True,\n",
        "                          num_workers=0)\n",
        "\n",
        "device = torch.device('cuda' if torch.cuda.is_available() else 'cpu')\n",
        "\n",
        "model = ChatNet(input_size, output_size).to(device)\n",
        "\n",
        "\n",
        "# Loss and optimizer\n",
        "criterion = nn.CrossEntropyLoss()\n",
        "optimizer = torch.optim.Adam(model.parameters(), lr=learning_rate)\n",
        "\n",
        "for epoch in range(num_epochs):\n",
        "  for words,labels in train_loader:\n",
        "\n",
        "    words=words.to(device)\n",
        "    labels = labels.to(dtype=torch.long).to(device)\n",
        "\n",
        "    outputs = model(words)\n",
        "\n",
        "    loss = criterion(outputs, labels)\n",
        "\n",
        "    # Backward and optimize\n",
        "    optimizer.zero_grad()\n",
        "    loss.backward()\n",
        "    optimizer.step()\n",
        "\n",
        "    if (epoch+1) % 100 == 0:\n",
        "        print (f'Epoch [{epoch+1}/{num_epochs}], Loss: {loss.item():.4f}')\n",
        "\n",
        "\n",
        "print(f'final loss: {loss.item():.4f}')\n",
        "\n",
        "data = {\n",
        "\"model_state\": model.state_dict(),\n",
        "\"input_size\": input_size,\n",
        "\"output_size\": output_size,\n",
        "\"all_words\": all_words,\n",
        "\"tags\": tags\n",
        "}\n",
        "\n",
        "FILE = \"/content/drive/MyDrive/PROJECTS/Chatbot Transport Rental Agency/data.pth\"\n",
        "torch.save(data, FILE)\n",
        "\n",
        "print(f'training complete. file saved to {FILE}')\n"
      ],
      "execution_count": 15,
      "outputs": [
        {
          "output_type": "stream",
          "text": [
            "79 13\n",
            "Epoch [100/1000], Loss: 2.2432\n",
            "Epoch [100/1000], Loss: 1.8298\n",
            "Epoch [100/1000], Loss: 2.2853\n",
            "Epoch [100/1000], Loss: 2.0390\n",
            "Epoch [100/1000], Loss: 2.0309\n",
            "Epoch [100/1000], Loss: 2.1714\n",
            "Epoch [200/1000], Loss: 1.0066\n",
            "Epoch [200/1000], Loss: 0.7666\n",
            "Epoch [200/1000], Loss: 0.7188\n",
            "Epoch [200/1000], Loss: 0.9125\n",
            "Epoch [200/1000], Loss: 0.7478\n",
            "Epoch [200/1000], Loss: 1.1986\n",
            "Epoch [300/1000], Loss: 0.1701\n",
            "Epoch [300/1000], Loss: 0.2732\n",
            "Epoch [300/1000], Loss: 0.2985\n",
            "Epoch [300/1000], Loss: 0.2694\n",
            "Epoch [300/1000], Loss: 0.1937\n",
            "Epoch [300/1000], Loss: 0.0673\n",
            "Epoch [400/1000], Loss: 0.1875\n",
            "Epoch [400/1000], Loss: 0.0940\n",
            "Epoch [400/1000], Loss: 0.0479\n",
            "Epoch [400/1000], Loss: 0.0374\n",
            "Epoch [400/1000], Loss: 0.0840\n",
            "Epoch [400/1000], Loss: 0.1704\n",
            "Epoch [500/1000], Loss: 0.0153\n",
            "Epoch [500/1000], Loss: 0.0544\n",
            "Epoch [500/1000], Loss: 0.0338\n",
            "Epoch [500/1000], Loss: 0.0587\n",
            "Epoch [500/1000], Loss: 0.0673\n",
            "Epoch [500/1000], Loss: 0.0640\n",
            "Epoch [600/1000], Loss: 0.0420\n",
            "Epoch [600/1000], Loss: 0.0625\n",
            "Epoch [600/1000], Loss: 0.0218\n",
            "Epoch [600/1000], Loss: 0.0108\n",
            "Epoch [600/1000], Loss: 0.0500\n",
            "Epoch [600/1000], Loss: 0.0147\n",
            "Epoch [700/1000], Loss: 0.0056\n",
            "Epoch [700/1000], Loss: 0.0356\n",
            "Epoch [700/1000], Loss: 0.0462\n",
            "Epoch [700/1000], Loss: 0.0389\n",
            "Epoch [700/1000], Loss: 0.0049\n",
            "Epoch [700/1000], Loss: 0.0117\n",
            "Epoch [800/1000], Loss: 0.0069\n",
            "Epoch [800/1000], Loss: 0.0112\n",
            "Epoch [800/1000], Loss: 0.0092\n",
            "Epoch [800/1000], Loss: 0.0058\n",
            "Epoch [800/1000], Loss: 0.0173\n",
            "Epoch [800/1000], Loss: 0.0058\n",
            "Epoch [900/1000], Loss: 0.0013\n",
            "Epoch [900/1000], Loss: 0.0423\n",
            "Epoch [900/1000], Loss: 0.0140\n",
            "Epoch [900/1000], Loss: 0.0043\n",
            "Epoch [900/1000], Loss: 0.0006\n",
            "Epoch [900/1000], Loss: 0.0024\n",
            "Epoch [1000/1000], Loss: 0.0216\n",
            "Epoch [1000/1000], Loss: 0.0024\n",
            "Epoch [1000/1000], Loss: 0.0028\n",
            "Epoch [1000/1000], Loss: 0.0007\n",
            "Epoch [1000/1000], Loss: 0.0014\n",
            "Epoch [1000/1000], Loss: 0.0018\n",
            "final loss: 0.0018\n",
            "training complete. file saved to /content/drive/MyDrive/PROJECTS/Chatbot Transport Rental Agency/data.pth\n"
          ],
          "name": "stdout"
        }
      ]
    },
    {
      "cell_type": "markdown",
      "metadata": {
        "id": "3XSmeIOQkTX5"
      },
      "source": [
        "### **Chat.py**"
      ]
    },
    {
      "cell_type": "code",
      "metadata": {
        "colab": {
          "base_uri": "https://localhost:8080/"
        },
        "id": "Sr1F5ODh-2aw",
        "outputId": "4ea1b37e-b1b3-4d63-eb75-f8b25e285989"
      },
      "source": [
        "import random\n",
        "import json\n",
        "\n",
        "import torch\n",
        "\n",
        "#from model import NeuralNet\n",
        "#from nltk_utils import bag_of_words, tokenize\n",
        "\n",
        "device = torch.device('cuda' if torch.cuda.is_available() else 'cpu')\n",
        "\n",
        "with open('/content/drive/MyDrive/PROJECTS/Chatbot Transport Rental Agency/intents.json', 'r') as json_data:\n",
        "    intents = json.load(json_data)\n",
        "\n",
        "FILE = \"/content/drive/MyDrive/PROJECTS/Chatbot Transport Rental Agency/data.pth\"\n",
        "data = torch.load(FILE)\n",
        "\n",
        "input_size = data[\"input_size\"]\n",
        "output_size = data[\"output_size\"]\n",
        "all_words = data['all_words']\n",
        "tags = data['tags']\n",
        "model_state = data[\"model_state\"]\n",
        "\n",
        "model = ChatNet(input_size,output_size).to(device)\n",
        "model.load_state_dict(model_state)\n",
        "model.eval()\n",
        "\n",
        "bot_name = \"Sammy\"\n",
        "print(\"Let's chat! (type 'quit' to exit)\")\n",
        "while True:\n",
        "    # sentence = \"do you use credit cards?\"\n",
        "    sentence = input(\"You: \")\n",
        "    if sentence == \"quit\":\n",
        "        break\n",
        "\n",
        "    sentence = token_ize(sentence)\n",
        "    X = b_o_w(sentence, all_words)\n",
        "    X = X.reshape(1, X.shape[0])\n",
        "    X = torch.from_numpy(X).to(device)\n",
        "\n",
        "    output = model(X)\n",
        "    _, predicted = torch.max(output, dim=1)\n",
        "\n",
        "    tag = tags[predicted.item()]\n",
        "\n",
        "    probs = torch.softmax(output, dim=1)\n",
        "    prob = probs[0][predicted.item()]\n",
        "    if prob.item() > 0.6:\n",
        "        for intent in intents['intents']:\n",
        "            if tag == intent[\"tag\"]:\n",
        "                print(f\"{bot_name}: {random.choice(intent['responses'])}\")\n",
        "    else:\n",
        "        print(f\"{bot_name}: I do not understand...\")"
      ],
      "execution_count": 16,
      "outputs": [
        {
          "output_type": "stream",
          "text": [
            "Let's chat! (type 'quit' to exit)\n",
            "You: hey\n",
            "Sammy: Hello, thanks for visiting\n",
            "You: when are you guys open\n",
            "Sammy: We're open every day 9am-9pm\n",
            "You: what about today\n",
            "Sammy: Same-day rentals please call 1-800-carbike\n",
            "You: what transports are avialble\n",
            "Sammy: we rent cars and bikes\n",
            "You: what cars\n",
            "Sammy: We have jeep, sedan and taxi\n",
            "You: what is rental policy\n",
            "Sammy: We have two ways of rental policy, days or distance travelled\n",
            "You: what about distance\n",
            "Sammy: Rs 200 per 10 k.m, isnt it cheap?\n",
            "You: ok how can i rent\n",
            "Sammy: For rentals today please call 1-800-carbike\n",
            "You: thanks man\n",
            "Sammy: My pleasure\n",
            "You: quit\n"
          ],
          "name": "stdout"
        }
      ]
    },
    {
      "cell_type": "code",
      "metadata": {
        "id": "uuoO7kxXlsvg"
      },
      "source": [
        ""
      ],
      "execution_count": null,
      "outputs": []
    }
  ]
}